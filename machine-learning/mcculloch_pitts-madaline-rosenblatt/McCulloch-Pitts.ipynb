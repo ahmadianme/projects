{
 "cells": [
  {
   "cell_type": "code",
   "execution_count": 1,
   "metadata": {},
   "outputs": [],
   "source": [
    "import numpy as np\n",
    "from shapely.geometry import Polygon, Point"
   ]
  },
  {
   "cell_type": "code",
   "execution_count": 2,
   "metadata": {},
   "outputs": [],
   "source": [
    "def mpNeuron(X, W, b):\n",
    "    net = np.sum(np.multiply(X, W)) + b\n",
    "    if net >= 0:\n",
    "        return 1\n",
    "    else:\n",
    "        return 0\n",
    "\n",
    "def neuronA(X):\n",
    "    return mpNeuron(np.array(X), np.array([0,-1]), 3)\n",
    "    \n",
    "def neuronB(X):\n",
    "    return mpNeuron(np.array(X), np.array([5,-1]), 3)\n",
    "\n",
    "def neuronC(X):\n",
    "    return mpNeuron(np.array(X), np.array([0,1]), 2)\n",
    "\n",
    "def neuronD(X):\n",
    "    return mpNeuron(np.array(X), np.array([-5,-2]), 21)\n",
    "\n",
    "def network(X):\n",
    "    if neuronA(X) == 1 and neuronB(X) == 1 and neuronC(X) == 1 and neuronD(X) == 1:\n",
    "        return 1\n",
    "    else:\n",
    "        return 0"
   ]
  },
  {
   "cell_type": "code",
   "execution_count": 3,
   "metadata": {},
   "outputs": [
    {
     "name": "stdout",
     "output_type": "stream",
     "text": [
      "Testing 20 samples: Success\n"
     ]
    }
   ],
   "source": [
    "# Random sample generator function\n",
    "def generateSamples(polygon, numberOfPoints):\n",
    "    min_x, min_y, max_x, max_y = polygon.bounds\n",
    "\n",
    "    pointsInside = []\n",
    "    pointsOutside = []\n",
    "\n",
    "    while len(pointsInside) < numberOfPoints or len(pointsOutside) < numberOfPoints:\n",
    "        random_point = Point([np.random.randint(min_x, max_x), np.random.randint(min_y, max_y)])\n",
    "        if (random_point.within(polygon)):\n",
    "            pointsInside.append(random_point)\n",
    "        else:\n",
    "            pointsOutside.append(random_point)\n",
    "\n",
    "    return pointsInside[:10], pointsOutside[:10]\n",
    "\n",
    "# Testing The Network\n",
    "polygon = Polygon([(0, 3), (3, 3), (5, -2), (-1, 2)])\n",
    "\n",
    "numberOfSamples = 20\n",
    "\n",
    "samplesInside, _ = generateSamples(polygon, numberOfSamples)\n",
    "\n",
    "insideTestPassed = True\n",
    "for sampleInside in samplesInside:\n",
    "    if not network(sampleInside.coords[:]):\n",
    "        insideTestPassed = False\n",
    "\n",
    "print('Testing ' + str(numberOfSamples) + ' samples: ' + ('Success' if insideTestPassed else 'Failed'))"
   ]
  }
 ],
 "metadata": {
  "kernelspec": {
   "display_name": "Python 3 (ipykernel)",
   "language": "python",
   "name": "python3"
  },
  "language_info": {
   "codemirror_mode": {
    "name": "ipython",
    "version": 3
   },
   "file_extension": ".py",
   "mimetype": "text/x-python",
   "name": "python",
   "nbconvert_exporter": "python",
   "pygments_lexer": "ipython3",
   "version": "3.8.12"
  }
 },
 "nbformat": 4,
 "nbformat_minor": 1
}
