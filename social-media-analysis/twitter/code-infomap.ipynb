{
 "cells": [
  {
   "cell_type": "code",
   "execution_count": 12,
   "metadata": {},
   "outputs": [
    {
     "name": "stdout",
     "output_type": "stream",
     "text": [
      "Note: to be able to use all crisp methods, you need to install some additional packages:  {'leidenalg', 'wurlitzer', 'graph_tool', 'karateclub'}\n",
      "Note: to be able to use all overlapping methods, you need to install some additional packages:  {'ASLPAw', 'karateclub'}\n",
      "Note: to be able to use all bipartite methods, you need to install some additional packages:  {'leidenalg', 'wurlitzer'}\n"
     ]
    }
   ],
   "source": [
    "from cdlib import algorithms\n",
    "import networkx as nx\n",
    "\n",
    "import matplotlib.pyplot as plt\n",
    "import matplotlib.colors as colors\n",
    "%matplotlib inline"
   ]
  },
  {
   "cell_type": "code",
   "execution_count": 5,
   "metadata": {},
   "outputs": [],
   "source": [
    "G = nx.read_graphml(\"network-mahsa-amini-prj.graphml\")"
   ]
  },
  {
   "cell_type": "code",
   "execution_count": 9,
   "metadata": {},
   "outputs": [],
   "source": [
    "def findCommunities(G):\n",
    "    \"\"\"\n",
    "    Partition network with the Infomap algorithm.\n",
    "    Annotates nodes with 'community' id and return number of communities found.\n",
    "    \"\"\"\n",
    "    infomapWrapper = infomap.Infomap(\"--two-level --silent\")\n",
    "\n",
    "    print(\"Building Infomap network from a NetworkX graph...\")\n",
    "    for e in G.edges_iter():\n",
    "        infomapWrapper.addLink(*e)\n",
    "\n",
    "    print(\"Find communities with Infomap...\")\n",
    "    infomapWrapper.run();\n",
    "\n",
    "    tree = infomapWrapper.tree\n",
    "\n",
    "    print(\"Found %d modules with codelength: %f\" % (tree.numTopModules(), tree.codelength()))\n",
    "\n",
    "    communities = {}\n",
    "    for node in tree.leafIter():\n",
    "        communities[node.originalLeafIndex] = node.moduleIndex()\n",
    "\n",
    "    nx.set_node_attributes(G, 'community', communities)\n",
    "    return tree.numTopModules()"
   ]
  },
  {
   "cell_type": "code",
   "execution_count": 10,
   "metadata": {},
   "outputs": [],
   "source": [
    "def drawNetwork(G):\n",
    "    # position map\n",
    "    pos = nx.spring_layout(G)\n",
    "    # community ids\n",
    "    communities = [v for k,v in nx.get_node_attributes(G, 'community').items()]\n",
    "    numCommunities = max(communities) + 1\n",
    "    # color map from http://colorbrewer2.org/\n",
    "    cmapLight = colors.ListedColormap(['#a6cee3', '#b2df8a', '#fb9a99', '#fdbf6f', '#cab2d6'], 'indexed', numCommunities)\n",
    "    cmapDark = colors.ListedColormap(['#1f78b4', '#33a02c', '#e31a1c', '#ff7f00', '#6a3d9a'], 'indexed', numCommunities)\n",
    "\n",
    "    # Draw edges\n",
    "    nx.draw_networkx_edges(G, pos)\n",
    "\n",
    "    # Draw nodes\n",
    "    nodeCollection = nx.draw_networkx_nodes(G,\n",
    "        pos = pos,\n",
    "        node_color = communities,\n",
    "        cmap = cmapLight\n",
    "    )\n",
    "    # Set node border color to the darker shade\n",
    "    darkColors = [cmapDark(v) for v in communities]\n",
    "    nodeCollection.set_edgecolor(darkColors)\n",
    "\n",
    "    # Draw node labels\n",
    "    for n in G.nodes_iter():\n",
    "        plt.annotate(n,\n",
    "            xy = pos[n],\n",
    "            textcoords = 'offset points',\n",
    "            horizontalalignment = 'center',\n",
    "            verticalalignment = 'center',\n",
    "            xytext = [0, 0],\n",
    "            color = cmapDark(communities[n])\n",
    "        )\n",
    "\n",
    "    plt.axis('off')\n",
    "    # plt.savefig(\"karate.png\")\n",
    "    plt.show()"
   ]
  },
  {
   "cell_type": "code",
   "execution_count": null,
   "metadata": {},
   "outputs": [],
   "source": [
    "# findCommunities(G)\n",
    "coms = algorithms.infomap(G)"
   ]
  },
  {
   "cell_type": "code",
   "execution_count": null,
   "metadata": {},
   "outputs": [],
   "source": [
    "drawNetwork(G)"
   ]
  },
  {
   "cell_type": "code",
   "execution_count": null,
   "metadata": {},
   "outputs": [],
   "source": [
    "import networkx as nx\n",
    "import matplotlib.pyplot as plt\n",
    "import matplotlib.colors as colors\n",
    "\n",
    "from infomap import Infomap\n",
    "import infomap\n",
    "\n",
    "\"\"\"\n",
    "Generate and draw a network with NetworkX, colored\n",
    "according to the community structure found by Infomap.\n",
    "\"\"\"\n",
    "\n",
    "def findCommunities(G):\n",
    "\t\"\"\"\n",
    "\tPartition network with the Infomap algorithm.\n",
    "\tAnnotates nodes with 'community' id and return number of communities found.\n",
    "\t\"\"\"\n",
    "# \tconf = infomap.init(\"--two-level\");\n",
    "\t# Input data\n",
    "\tnetwork = Infomap('--two-level');\n",
    "\t# Output data\n",
    "\ttree = infomap.HierarchicalNetwork(conf)\n",
    "\n",
    "\tprint(\"Building network...\")\n",
    "\tfor e in G.edges_iter():\n",
    "\t\tnetwork.addLink(*e)\n",
    "\n",
    "\tnetwork.finalizeAndCheckNetwork(True, nx.number_of_nodes(G));\n",
    "\n",
    "\t# Cluster network\n",
    "\tinfomap.run(network, tree);\n",
    "\n",
    "\tprint(\"Found %d top modules with codelength: %f\" % (tree.numTopModules(), tree.codelength()))\n",
    "\n",
    "\tcommunities = {}\n",
    "\tclusterIndexLevel = 1 # 1, 2, ... or -1 for top, second, ... or lowest cluster level\n",
    "\tfor node in tree.leafIter(clusterIndexLevel):\n",
    "\t\tcommunities[node.originalLeafIndex] = node.clusterIndex()\n",
    "\n",
    "\tnx.set_node_attributes(G, 'community', communities)\n",
    "\treturn tree.numTopModules()\n",
    "\n",
    "\n",
    "def drawNetwork(G):\n",
    "\t# position map\n",
    "\tpos = nx.spring_layout(G)\n",
    "\t# community ids\n",
    "\tcommunities = [v for k,v in nx.get_node_attributes(G, 'community').items()]\n",
    "\tnumCommunities = max(communities) + 1\n",
    "\t# color map from http://colorbrewer2.org/\n",
    "\tcmapLight = colors.ListedColormap(['#a6cee3', '#b2df8a', '#fb9a99', '#fdbf6f', '#cab2d6'], 'indexed', numCommunities)\n",
    "\tcmapDark = colors.ListedColormap(['#1f78b4', '#33a02c', '#e31a1c', '#ff7f00', '#6a3d9a'], 'indexed', numCommunities)\n",
    "\n",
    "\t# edges\n",
    "\tnx.draw_networkx_edges(G, pos)\n",
    "\n",
    "\t# nodes\n",
    "\tnodeCollection = nx.draw_networkx_nodes(G,\n",
    "\t\tpos = pos,\n",
    "\t\tnode_color = communities,\n",
    "\t\tcmap = cmapLight\n",
    "\t)\n",
    "\t# set node border color to the darker shade\n",
    "\tdarkColors = [cmapDark(v) for v in communities]\n",
    "\tnodeCollection.set_edgecolor(darkColors)\n",
    "\n",
    "\t# Print node labels separately instead\n",
    "\tfor n in G.nodes_iter():\n",
    "\t\tplt.annotate(n,\n",
    "\t\t\txy = pos[n],\n",
    "\t\t\ttextcoords = 'offset points',\n",
    "\t\t\thorizontalalignment = 'center',\n",
    "\t\t\tverticalalignment = 'center',\n",
    "\t\t\txytext = [0, 2],\n",
    "\t\t\tcolor = cmapDark(communities[n])\n",
    "\t\t)\n",
    "\n",
    "\tplt.axis('off')\n",
    "\t# plt.savefig(\"karate.png\")\n",
    "\tplt.show()\n",
    "\n",
    "\n",
    "G=nx.karate_club_graph()\n",
    "\n",
    "numCommunities = findCommunities(G)\n",
    "\n",
    "print(\"Number of communities found: %d\" % numCommunities)\n",
    "\n",
    "drawNetwork(G)"
   ]
  },
  {
   "cell_type": "code",
   "execution_count": 4,
   "metadata": {},
   "outputs": [
    {
     "name": "stdout",
     "output_type": "stream",
     "text": [
      "Loading network from '/Users/mehran/Desktop/final project/network-mahsa-amini-prj.net'...\n"
     ]
    },
    {
     "ename": "RuntimeError",
     "evalue": "Negative node weight (-114.257) from line ' -114.25677 -265.49048 0.0'",
     "output_type": "error",
     "traceback": [
      "\u001B[0;31m---------------------------------------------------------------------------\u001B[0m",
      "\u001B[0;31mRuntimeError\u001B[0m                              Traceback (most recent call last)",
      "\u001B[0;32m/var/folders/54/jg3ndtkn0279dnfxlxf427vc0000gn/T/ipykernel_26430/643797754.py\u001B[0m in \u001B[0;36m<module>\u001B[0;34m\u001B[0m\n\u001B[1;32m     10\u001B[0m \u001B[0mprint\u001B[0m\u001B[0;34m(\u001B[0m\u001B[0;34m\"Loading network from '%s'...\"\u001B[0m \u001B[0;34m%\u001B[0m \u001B[0mfilename\u001B[0m\u001B[0;34m)\u001B[0m\u001B[0;34m\u001B[0m\u001B[0;34m\u001B[0m\u001B[0m\n\u001B[1;32m     11\u001B[0m \u001B[0mnetwork\u001B[0m \u001B[0;34m=\u001B[0m \u001B[0mInfomap\u001B[0m\u001B[0;34m(\u001B[0m\u001B[0;34m'--silent --directed'\u001B[0m\u001B[0;34m)\u001B[0m\u001B[0;34m\u001B[0m\u001B[0;34m\u001B[0m\u001B[0m\n\u001B[0;32m---> 12\u001B[0;31m \u001B[0mnetwork\u001B[0m\u001B[0;34m.\u001B[0m\u001B[0mreadInputData\u001B[0m\u001B[0;34m(\u001B[0m\u001B[0mfilename\u001B[0m\u001B[0;34m)\u001B[0m\u001B[0;34m\u001B[0m\u001B[0;34m\u001B[0m\u001B[0m\n\u001B[0m\u001B[1;32m     13\u001B[0m \u001B[0;34m\u001B[0m\u001B[0m\n\u001B[1;32m     14\u001B[0m \u001B[0mprint\u001B[0m\u001B[0;34m(\u001B[0m\u001B[0;34m\"Running Infomap...\"\u001B[0m\u001B[0;34m)\u001B[0m\u001B[0;34m\u001B[0m\u001B[0;34m\u001B[0m\u001B[0m\n",
      "\u001B[0;32m~/opt/anaconda3/envs/deeplearning/lib/python3.8/site-packages/infomap.py\u001B[0m in \u001B[0;36mreadInputData\u001B[0;34m(self, *args)\u001B[0m\n\u001B[1;32m   3550\u001B[0m \u001B[0;34m\u001B[0m\u001B[0m\n\u001B[1;32m   3551\u001B[0m     \u001B[0;32mdef\u001B[0m \u001B[0mreadInputData\u001B[0m\u001B[0;34m(\u001B[0m\u001B[0mself\u001B[0m\u001B[0;34m,\u001B[0m \u001B[0;34m*\u001B[0m\u001B[0margs\u001B[0m\u001B[0;34m)\u001B[0m\u001B[0;34m:\u001B[0m\u001B[0;34m\u001B[0m\u001B[0;34m\u001B[0m\u001B[0m\n\u001B[0;32m-> 3552\u001B[0;31m         \u001B[0;32mreturn\u001B[0m \u001B[0m_infomap\u001B[0m\u001B[0;34m.\u001B[0m\u001B[0mInfomapWrapper_readInputData\u001B[0m\u001B[0;34m(\u001B[0m\u001B[0mself\u001B[0m\u001B[0;34m,\u001B[0m \u001B[0;34m*\u001B[0m\u001B[0margs\u001B[0m\u001B[0;34m)\u001B[0m\u001B[0;34m\u001B[0m\u001B[0;34m\u001B[0m\u001B[0m\n\u001B[0m\u001B[1;32m   3553\u001B[0m \u001B[0;34m\u001B[0m\u001B[0m\n\u001B[1;32m   3554\u001B[0m     \u001B[0;32mdef\u001B[0m \u001B[0maddNode\u001B[0m\u001B[0;34m(\u001B[0m\u001B[0mself\u001B[0m\u001B[0;34m,\u001B[0m \u001B[0;34m*\u001B[0m\u001B[0margs\u001B[0m\u001B[0;34m)\u001B[0m\u001B[0;34m:\u001B[0m\u001B[0;34m\u001B[0m\u001B[0;34m\u001B[0m\u001B[0m\n",
      "\u001B[0;31mRuntimeError\u001B[0m: Negative node weight (-114.257) from line ' -114.25677 -265.49048 0.0'"
     ]
    }
   ],
   "source": [
    "import os.path\n",
    "from infomap import Infomap\n",
    "\n",
    "# conf = infomap.init(\"--silent -N5\")\n",
    "# Add output directory (and output name) to automatically write result to file\n",
    "# conf = infomap.init(\"--silent -N5 . --out-name test\")\n",
    "\n",
    "filename = \"network-mahsa-amini-prj.net\"\n",
    "name = os.path.splitext(os.path.basename(filename))[0]\n",
    "print(\"Loading network from '%s'...\" % filename)\n",
    "network = Infomap('--silent -N5')\n",
    "network.readInputData(filename)\n",
    "\n",
    "print(\"Running Infomap...\")\n",
    "tree = infomap.HierarchicalNetwork(conf)\n",
    "infomap.run(network, tree)\n",
    "\n",
    "print(\"Found %d top modules with codelength: %f\" % (tree.numTopModules(), tree.codelength()))\n",
    "\n",
    "print(\"Writing top level clusters to %s_level1.clu...\" % name)\n",
    "tree.writeClu(\"%s_level1.clu\" % name, 1)\n",
    "print(\"Writing second level clusters to %s_level2.clu...\" % name)\n",
    "tree.writeClu(\"%s_level2.clu\" % name, 2)\n",
    "\n",
    "print(\"Writing tree to %s.tree...\" % name)\n",
    "tree.writeHumanReadableTree(\"%s.tree\" % name)"
   ]
  },
  {
   "cell_type": "code",
   "execution_count": 6,
   "metadata": {},
   "outputs": [
    {
     "name": "stdout",
     "output_type": "stream",
     "text": [
      "0.2958564422328483\n"
     ]
    }
   ],
   "source": [
    "from igraph import *\n",
    "\n",
    "g=Graph.Read_GraphML(\"network-mahsa-amini-prj.graphml\")\n",
    "\n",
    "p=g.community_infomap()\n",
    "Q=g.modularity(p)\n",
    "print(Q)"
   ]
  },
  {
   "cell_type": "code",
   "execution_count": null,
   "metadata": {},
   "outputs": [],
   "source": []
  },
  {
   "cell_type": "code",
   "execution_count": 7,
   "outputs": [
    {
     "name": "stdout",
     "output_type": "stream",
     "text": [
      "0.294110250670254\n"
     ]
    }
   ],
   "source": [
    "from igraph import *\n",
    "\n",
    "g2=Graph.Read_GraphML(\"network-mahsa-amini-prj-undirected.graphml\")\n",
    "\n",
    "p2=g.community_infomap()\n",
    "Q2=g.modularity(p2)\n",
    "print(Q2)"
   ],
   "metadata": {
    "collapsed": false
   }
  },
  {
   "cell_type": "code",
   "execution_count": 18,
   "metadata": {},
   "outputs": [
    {
     "data": {
      "text/plain": [
       "4269"
      ]
     },
     "execution_count": 18,
     "metadata": {},
     "output_type": "execute_result"
    }
   ],
   "source": [
    "len(p)"
   ]
  },
  {
   "cell_type": "code",
   "execution_count": 15,
   "metadata": {},
   "outputs": [
    {
     "ename": "AttributeError",
     "evalue": "'VertexClustering' object has no attribute '_format_mapping'",
     "output_type": "error",
     "traceback": [
      "\u001B[0;31m---------------------------------------------------------------------------\u001B[0m",
      "\u001B[0;31mAttributeError\u001B[0m                            Traceback (most recent call last)",
      "\u001B[0;32m/var/folders/54/jg3ndtkn0279dnfxlxf427vc0000gn/T/ipykernel_26430/1307402551.py\u001B[0m in \u001B[0;36m<module>\u001B[0;34m\u001B[0m\n\u001B[0;32m----> 1\u001B[0;31m \u001B[0mGraph\u001B[0m\u001B[0;34m.\u001B[0m\u001B[0mwrite\u001B[0m\u001B[0;34m(\u001B[0m\u001B[0mp\u001B[0m\u001B[0;34m,\u001B[0m \u001B[0;34m'aaa.csv'\u001B[0m\u001B[0;34m)\u001B[0m\u001B[0;34m\u001B[0m\u001B[0;34m\u001B[0m\u001B[0m\n\u001B[0m",
      "\u001B[0;32m~/opt/anaconda3/envs/deeplearning/lib/python3.8/site-packages/igraph/io/files.py\u001B[0m in \u001B[0;36m_write_graph_to_file\u001B[0;34m(graph, f, format, *args, **kwds)\u001B[0m\n\u001B[1;32m    486\u001B[0m         \u001B[0mformat\u001B[0m \u001B[0;34m=\u001B[0m \u001B[0m_identify_format\u001B[0m\u001B[0;34m(\u001B[0m\u001B[0mf\u001B[0m\u001B[0;34m)\u001B[0m\u001B[0;34m\u001B[0m\u001B[0;34m\u001B[0m\u001B[0m\n\u001B[1;32m    487\u001B[0m     \u001B[0;32mtry\u001B[0m\u001B[0;34m:\u001B[0m\u001B[0;34m\u001B[0m\u001B[0;34m\u001B[0m\u001B[0m\n\u001B[0;32m--> 488\u001B[0;31m         \u001B[0mwriter\u001B[0m \u001B[0;34m=\u001B[0m \u001B[0mgraph\u001B[0m\u001B[0;34m.\u001B[0m\u001B[0m_format_mapping\u001B[0m\u001B[0;34m[\u001B[0m\u001B[0mformat\u001B[0m\u001B[0;34m]\u001B[0m\u001B[0;34m[\u001B[0m\u001B[0;36m1\u001B[0m\u001B[0;34m]\u001B[0m\u001B[0;34m\u001B[0m\u001B[0;34m\u001B[0m\u001B[0m\n\u001B[0m\u001B[1;32m    489\u001B[0m     \u001B[0;32mexcept\u001B[0m \u001B[0;34m(\u001B[0m\u001B[0mKeyError\u001B[0m\u001B[0;34m,\u001B[0m \u001B[0mIndexError\u001B[0m\u001B[0;34m)\u001B[0m\u001B[0;34m:\u001B[0m\u001B[0;34m\u001B[0m\u001B[0;34m\u001B[0m\u001B[0m\n\u001B[1;32m    490\u001B[0m         \u001B[0;32mraise\u001B[0m \u001B[0mIOError\u001B[0m\u001B[0;34m(\u001B[0m\u001B[0;34m\"unknown file format: %s\"\u001B[0m \u001B[0;34m%\u001B[0m \u001B[0mstr\u001B[0m\u001B[0;34m(\u001B[0m\u001B[0mformat\u001B[0m\u001B[0;34m)\u001B[0m\u001B[0;34m)\u001B[0m\u001B[0;34m\u001B[0m\u001B[0;34m\u001B[0m\u001B[0m\n",
      "\u001B[0;31mAttributeError\u001B[0m: 'VertexClustering' object has no attribute '_format_mapping'"
     ]
    }
   ],
   "source": [
    "Graph.write(p, 'aaa.csv')"
   ]
  },
  {
   "cell_type": "code",
   "execution_count": 10,
   "metadata": {},
   "outputs": [
    {
     "data": {
      "text/plain": [
       "<AxesSubplot:>"
      ]
     },
     "execution_count": 10,
     "metadata": {},
     "output_type": "execute_result"
    },
    {
     "data": {
      "image/png": "[encoded data removed]",
      "text/plain": [
       "<Figure size 432x288 with 1 Axes>"
      ]
     },
     "metadata": {},
     "output_type": "display_data"
    }
   ],
   "source": [
    "import igraph as ig\n",
    "import matplotlib.pyplot as plt\n",
    "\n",
    "palette = ig.RainbowPalette(n=len(p))\n",
    "\n",
    "fig, ax = plt.subplots()\n",
    "ig.plot(\n",
    "    p,\n",
    "    palette=palette,\n",
    "    edge_width=1,\n",
    "    target=ax,\n",
    "    vertex_size=0.3,\n",
    ")"
   ]
  },
  {
   "cell_type": "code",
   "execution_count": null,
   "metadata": {},
   "outputs": [],
   "source": []
  },
  {
   "cell_type": "code",
   "execution_count": null,
   "metadata": {},
   "outputs": [],
   "source": [
    "G = nx.read_graphml(\"network-mahsa-amini-prj.graphml\")"
   ]
  },
  {
   "cell_type": "code",
   "execution_count": null,
   "metadata": {},
   "outputs": [],
   "source": [
    "# G = nx.karate_club_graph()\n",
    "coms = algorithms.infomap(G, '--two-level')\n",
    "# coms = algorithms.infomap(G, '-a 1')\n",
    "# coms = algorithms.infomap(G, '--two-level')"
   ]
  },
  {
   "cell_type": "code",
   "execution_count": null,
   "metadata": {},
   "outputs": [],
   "source": []
  }
 ],
 "metadata": {
  "kernelspec": {
   "display_name": "Python 3 (ipykernel)",
   "language": "python",
   "name": "python3"
  },
  "language_info": {
   "codemirror_mode": {
    "name": "ipython",
    "version": 3
   },
   "file_extension": ".py",
   "mimetype": "text/x-python",
   "name": "python",
   "nbconvert_exporter": "python",
   "pygments_lexer": "ipython3",
   "version": "3.8.12"
  }
 },
 "nbformat": 4,
 "nbformat_minor": 2
}
