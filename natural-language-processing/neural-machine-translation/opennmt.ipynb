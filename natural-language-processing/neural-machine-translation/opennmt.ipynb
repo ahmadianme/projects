{
 "cells": [
  {
   "cell_type": "code",
   "execution_count": null,
   "metadata": {
    "id": "nAh87wRQ5VZq"
   },
   "outputs": [],
   "source": [
    "!pip install OpenNMT-py\n",
    "!pip install bert-score\n",
    "!pip install jiwer\n",
    "!pip install torchmetrics\n",
    "\n",
    "!mkdir data\n",
    "!wget https://ahmadian.me/nmt/train.en -O data/train.en\n",
    "!wget https://ahmadian.me/nmt/train.fa -O data/train.fa\n",
    "!wget https://ahmadian.me/nmt/train-min.en -O data/train-min.en\n",
    "!wget https://ahmadian.me/nmt/train-min.fa -O data/train-min.fa\n",
    "!wget https://ahmadian.me/nmt/valid.en -O data/valid.en\n",
    "!wget https://ahmadian.me/nmt/valid.fa -O data/valid.fa\n",
    "!wget https://ahmadian.me/nmt/test.en -O data/test.en\n",
    "!wget https://ahmadian.me/nmt/test.fa -O data/test.fa\n",
    "\n",
    "!mkdir opennmt\n",
    "!wget https://ahmadian.me/nmt/opennmt-config.yaml -O opennmt/config.yaml\n",
    "!wget https://ahmadian.me/nmt/bpe-config.yaml -O opennmt/bpe-config.yaml"
   ]
  },
  {
   "cell_type": "code",
   "execution_count": 3,
   "metadata": {
    "id": "Q9nXcueAvTIm"
   },
   "outputs": [],
   "source": [
    "trainEnFile = 'data/train.en'\n",
    "trainFaFile = 'data/train.fa'\n",
    "validEnFile = 'data/valid.en'\n",
    "validFaFile = 'data/valid.fa'\n",
    "testEnFile = 'data/test.en'\n",
    "testFaFile = 'data/test.fa'"
   ]
  },
  {
   "cell_type": "code",
   "execution_count": 4,
   "metadata": {
    "id": "a4IXlaLN-v-r"
   },
   "outputs": [],
   "source": [
    "with open(trainEnFile, 'r') as file:\n",
    "    data = file.read().lower()\n",
    "\n",
    "text_file = open(trainEnFile + '.proc', \"w\")\n",
    "text_file.write(data)\n",
    "text_file.close()\n",
    "\n",
    "with open(validEnFile, 'r') as file:\n",
    "    data = file.read().lower()\n",
    "\n",
    "text_file = open(validEnFile + '.proc', \"w\")\n",
    "text_file.write(data)\n",
    "text_file.close()\n",
    "\n",
    "with open(testEnFile, 'r') as file:\n",
    "    data = file.read().lower()\n",
    "\n",
    "text_file = open(testEnFile + '.proc', \"w\")\n",
    "text_file.write(data)\n",
    "text_file.close()\n",
    "\n",
    "\n",
    "\n",
    "with open(trainFaFile, 'r') as file:\n",
    "    data = file.read().replace('\\u200c', ' ')\n",
    "\n",
    "text_file = open(trainFaFile + '.proc', \"w\")\n",
    "text_file.write(data)\n",
    "text_file.close()\n",
    "\n",
    "with open(trainMinFaFile, 'r') as file:\n",
    "    data = file.read().replace('\\u200c', ' ')\n",
    "\n",
    "text_file = open(trainMinFaFile + '.proc', \"w\")\n",
    "text_file.write(data)\n",
    "text_file.close()\n",
    "\n",
    "with open(validFaFile, 'r') as file:\n",
    "    data = file.read().replace('\\u200c', ' ')\n",
    "\n",
    "text_file = open(validFaFile + '.proc', \"w\")\n",
    "text_file.write(data)\n",
    "text_file.close()\n",
    "\n",
    "with open(testFaFile, 'r') as file:\n",
    "    data = file.read().replace('\\u200c', ' ')\n",
    "\n",
    "text_file = open(testFaFile + '.proc', \"w\")\n",
    "text_file.write(data)\n",
    "text_file.close()"
   ]
  },
  {
   "cell_type": "code",
   "source": [
    "trainEnFileProc = trainEnFile + '.proc'\n",
    "trainFaFileProc = trainFaFile + '.proc'\n",
    "validEnFileProc = validEnFile + '.proc'\n",
    "validFaFileProc = validFaFile + '.proc'\n",
    "testEnFileProc = testEnFile + '.proc'\n",
    "testFaFileProc = testFaFile + '.proc'"
   ],
   "metadata": {
    "id": "3gAQXM4ApSZr"
   },
   "execution_count": 5,
   "outputs": []
  },
  {
   "cell_type": "code",
   "execution_count": 6,
   "metadata": {
    "id": "wthswMPa-z49"
   },
   "outputs": [],
   "source": [
    "import pyonmttok\n",
    "\n",
    "args = {\n",
    "    \"mode\": \"aggressive\",\n",
    "    \"joiner_annotate\": True,\n",
    "    \"preserve_placeholders\": True,\n",
    "    \"case_markup\": True,\n",
    "    \"soft_case_regions\": True,\n",
    "    \"preserve_segmented_tokens\": True,\n",
    "}\n",
    "n_symbols = 40000\n",
    "\n",
    "\n",
    "\n",
    "tokenizer_default = pyonmttok.Tokenizer(**args)\n",
    "learner = pyonmttok.BPELearner(tokenizer=tokenizer_default, symbols=n_symbols)\n",
    "learner.ingest_file(trainEnFileProc)\n",
    "\n",
    "tokenizer = learner.learn(\"opennmt/en.bpe\")\n",
    "\n",
    "tokenizer.tokenize_file(f\"{trainEnFileProc}\", f\"{trainEnFile}.bpe\")\n",
    "tokenizer.tokenize_file(f\"{validEnFileProc}\", f\"{validEnFile}.bpe\")\n",
    "tokenizer.tokenize_file(f\"{testEnFileProc}\", f\"{testEnFile}.bpe\")\n",
    "\n",
    "\n",
    "\n",
    "tokenizer_default = pyonmttok.Tokenizer(**args)\n",
    "learner = pyonmttok.BPELearner(tokenizer=tokenizer_default, symbols=n_symbols)\n",
    "learner.ingest_file(trainFaFileProc)\n",
    "\n",
    "tokenizer = learner.learn(\"opennmt/fa.bpe\")\n",
    "\n",
    "tokenizer.tokenize_file(f\"{trainFaFileProc}\", f\"{trainFaFile}.bpe\")\n",
    "tokenizer.tokenize_file(f\"{validFaFileProc}\", f\"{validFaFile}.bpe\")\n",
    "tokenizer.tokenize_file(f\"{testFaFileProc}\", f\"{testFaFile}.bpe\")\n",
    "\n",
    "\n",
    "\n",
    "trainEnFileBPE = trainEnFile + '.bpe'\n",
    "trainFaFileBPE = trainFaFile + '.bpe'\n",
    "validEnFileBPE = validEnFile + '.bpe'\n",
    "validFaFileBPE = validFaFile + '.bpe'\n",
    "testEnFileBPE = testEnFile + '.bpe'\n",
    "testFaFileBPE = testFaFile + '.bpe'\n",
    "\n",
    "trainEnFile = trainEnFileBPE\n",
    "trainFaFile = trainFaFileBPE\n",
    "validEnFile = validEnFileBPE\n",
    "validFaFile = validFaFileBPE\n",
    "testEnFile = testEnFileBPE\n",
    "testFaFile = testFaFileBPE"
   ]
  },
  {
   "cell_type": "code",
   "execution_count": null,
   "metadata": {
    "id": "DzdECgHl7FKK"
   },
   "outputs": [],
   "source": [
    "!onmt_build_vocab -config opennmt/bpe-config.yaml -n_sample -1"
   ]
  },
  {
   "cell_type": "code",
   "execution_count": null,
   "metadata": {
    "id": "Y-4S0QOS9d_7"
   },
   "outputs": [],
   "source": [
    "!onmt_train -config opennmt/config.yaml"
   ]
  },
  {
   "cell_type": "code",
   "execution_count": 5,
   "metadata": {
    "id": "flBBGJ7dtabu"
   },
   "outputs": [],
   "source": [
    "import numpy as np\n",
    "from nltk.translate.bleu_score import corpus_bleu\n",
    "from torchmetrics.functional.text.bert import bert_score\n",
    "from jiwer import wer\n",
    "\n",
    "def calculateMetrics(referencesFile, candidatesFile):\n",
    "    references = []\n",
    "    candidates = []\n",
    "    referencesSentences = []\n",
    "    candidatesSentences = []\n",
    "\n",
    "    with open(referencesFile) as f:\n",
    "        sentences = f.readlines()\n",
    "\n",
    "        for sentence in sentences:\n",
    "            references.append([sentence.split()])\n",
    "            referencesSentences.append(sentence)\n",
    "\n",
    "    with open(candidatesFile) as f:\n",
    "        sentences = f.readlines()\n",
    "\n",
    "        for sentence in sentences:\n",
    "            candidates.append(sentence.split())\n",
    "            candidatesSentences.append(sentence)\n",
    "\n",
    "    bleuScore = []\n",
    "    bleuScore.append(corpus_bleu(references, candidates))\n",
    "    bleuScore.append(corpus_bleu(references, candidates, weights=(1, 0 , 0 , 0)))\n",
    "    bleuScore.append(corpus_bleu(references, candidates, weights=(0, 1 , 0 , 0)))\n",
    "    bleuScore.append(corpus_bleu(references, candidates, weights=(0, 0 , 1 , 0)))\n",
    "    bleuScore.append(corpus_bleu(references, candidates, weights=(0, 0 , 0 , 1)))\n",
    "\n",
    "    bertScore = []\n",
    "    bertCalc = bert_score(candidatesSentences, referencesSentences, device='cuda')\n",
    "    bertScore.append(np.mean(bertCalc['f1']))\n",
    "\n",
    "    werError = wer(referencesSentences, candidatesSentences)\n",
    "\n",
    "    return bleuScore, bertScore, werError"
   ]
  },
  {
   "cell_type": "code",
   "execution_count": null,
   "metadata": {
    "id": "6pfTVmKADjDC"
   },
   "outputs": [],
   "source": [
    "!onmt_translate -model opennmt/opennmt_step_1000.pt -src data/test.en.proc -output data/pred_1000.fa -gpu 0\n",
    "!onmt_translate -model opennmt/opennmt_step_2000.pt -src data/test.en.proc -output data/pred_2000.fa -gpu 0\n",
    "!onmt_translate -model opennmt/opennmt_step_3000.pt -src data/test.en.proc -output data/pred_3000.fa -gpu 0\n",
    "!onmt_translate -model opennmt/opennmt_step_4000.pt -src data/test.en.proc -output data/pred_4000.fa -gpu 0\n",
    "!onmt_translate -model opennmt/opennmt_step_5000.pt -src data/test.en.proc -output data/pred_5000.fa -gpu 0\n",
    "!onmt_translate -model opennmt/opennmt_step_6000.pt -src data/test.en.proc -output data/pred_6000.fa -gpu 0\n",
    "!onmt_translate -model opennmt/opennmt_step_7000.pt -src data/test.en.proc -output data/pred_7000.fa -gpu 0\n",
    "!onmt_translate -model opennmt/opennmt_step_8000.pt -src data/test.en.proc -output data/pred_8000.fa -gpu 0\n",
    "!onmt_translate -model opennmt/opennmt_step_9000.pt -src data/test.en.proc -output data/pred_9000.fa -gpu 0\n",
    "!onmt_translate -model opennmt/opennmt_step_10000.pt -src data/test.en.proc -output data/pred_10000.fa -gpu 0\n",
    "!onmt_translate -model opennmt/opennmt_step_11000.pt -src data/test.en.proc -output data/pred_11000.fa -gpu 0\n",
    "!onmt_translate -model opennmt/opennmt_step_12000.pt -src data/test.en.proc -output data/pred_12000.fa -gpu 0\n",
    "!onmt_translate -model opennmt/opennmt_step_13000.pt -src data/test.en.proc -output data/pred_13000.fa -gpu 0\n",
    "!onmt_translate -model opennmt/opennmt_step_14000.pt -src data/test.en.proc -output data/pred_14000.fa -gpu 0\n",
    "!onmt_translate -model opennmt/opennmt_step_15000.pt -src data/test.en.proc -output data/pred_15000.fa -gpu 0\n",
    "!onmt_translate -model opennmt/opennmt_step_16000.pt -src data/test.en.proc -output data/pred_16000.fa -gpu 0\n",
    "!onmt_translate -model opennmt/opennmt_step_17000.pt -src data/test.en.proc -output data/pred_17000.fa -gpu 0\n",
    "!onmt_translate -model opennmt/opennmt_step_18000.pt -src data/test.en.proc -output data/pred_18000.fa -gpu 0\n",
    "!onmt_translate -model opennmt/opennmt_step_19000.pt -src data/test.en.proc -output data/pred_19000.fa -gpu 0\n",
    "!onmt_translate -model opennmt/opennmt_step_20000.pt -src data/test.en.proc -output data/pred_20000.fa -gpu 0"
   ]
  },
  {
   "cell_type": "code",
   "execution_count": null,
   "metadata": {
    "id": "kO8IuzfxOKpv"
   },
   "outputs": [],
   "source": [
    "!onmt_translate -model opennmt/opennmt_step_1000.pt -src data/valid.en.proc -output data/pred_valid_1000.fa -gpu 0\n",
    "!onmt_translate -model opennmt/opennmt_step_2000.pt -src data/valid.en.proc -output data/pred_valid_2000.fa -gpu 0\n",
    "!onmt_translate -model opennmt/opennmt_step_3000.pt -src data/valid.en.proc -output data/pred_valid_3000.fa -gpu 0\n",
    "!onmt_translate -model opennmt/opennmt_step_4000.pt -src data/valid.en.proc -output data/pred_valid_4000.fa -gpu 0\n",
    "!onmt_translate -model opennmt/opennmt_step_5000.pt -src data/valid.en.proc -output data/pred_valid_5000.fa -gpu 0\n",
    "!onmt_translate -model opennmt/opennmt_step_6000.pt -src data/valid.en.proc -output data/pred_valid_6000.fa -gpu 0\n",
    "!onmt_translate -model opennmt/opennmt_step_7000.pt -src data/valid.en.proc -output data/pred_valid_7000.fa -gpu 0\n",
    "!onmt_translate -model opennmt/opennmt_step_8000.pt -src data/valid.en.proc -output data/pred_valid_8000.fa -gpu 0\n",
    "!onmt_translate -model opennmt/opennmt_step_9000.pt -src data/valid.en.proc -output data/pred_valid_9000.fa -gpu 0\n",
    "!onmt_translate -model opennmt/opennmt_step_10000.pt -src data/valid.en.proc -output data/pred_valid_10000.fa -gpu 0\n",
    "!onmt_translate -model opennmt/opennmt_step_11000.pt -src data/valid.en.proc -output data/pred_valid_11000.fa -gpu 0\n",
    "!onmt_translate -model opennmt/opennmt_step_12000.pt -src data/valid.en.proc -output data/pred_valid_12000.fa -gpu 0\n",
    "!onmt_translate -model opennmt/opennmt_step_13000.pt -src data/valid.en.proc -output data/pred_valid_13000.fa -gpu 0\n",
    "!onmt_translate -model opennmt/opennmt_step_14000.pt -src data/valid.en.proc -output data/pred_valid_14000.fa -gpu 0\n",
    "!onmt_translate -model opennmt/opennmt_step_15000.pt -src data/valid.en.proc -output data/pred_valid_15000.fa -gpu 0\n",
    "!onmt_translate -model opennmt/opennmt_step_16000.pt -src data/valid.en.proc -output data/pred_valid_16000.fa -gpu 0\n",
    "!onmt_translate -model opennmt/opennmt_step_17000.pt -src data/valid.en.proc -output data/pred_valid_17000.fa -gpu 0\n",
    "!onmt_translate -model opennmt/opennmt_step_18000.pt -src data/valid.en.proc -output data/pred_valid_18000.fa -gpu 0\n",
    "!onmt_translate -model opennmt/opennmt_step_19000.pt -src data/valid.en.proc -output data/pred_valid_19000.fa -gpu 0\n",
    "!onmt_translate -model opennmt/opennmt_step_20000.pt -src data/valid.en.proc -output data/pred_valid_20000.fa -gpu 0"
   ]
  },
  {
   "cell_type": "code",
   "execution_count": null,
   "metadata": {
    "id": "Yp9ITBMjw25G"
   },
   "outputs": [],
   "source": [
    "testSteps = ['1000', '2000', '3000', '4000', '5000', '6000', '7000', '8000', '9000', '10000', '11000', '12000', '13000', '14000', '15000', '16000', '17000', '18000', '19000', '20000']\n",
    "\n",
    "for testStep in testSteps:\n",
    "    print('Testing Step: ' + str(testStep))\n",
    "    bleuScore, bertScore, werError = calculateMetrics(testFaFileProc, 'data/pred_'+str(testStep)+'.fa')\n",
    "    print('bleu: ' + str(bleuScore))\n",
    "    print('bertScore: ' + str(bertScore))\n",
    "    print('werError: ' + str(werError))\n",
    "    print()"
   ]
  },
  {
   "cell_type": "code",
   "source": [
    "testSteps = ['1000', '2000', '3000', '4000', '5000', '6000', '7000', '8000', '9000', '10000', '11000', '12000', '13000', '14000', '15000', '16000', '17000', '18000', '19000', '20000']\n",
    "\n",
    "for testStep in testSteps:\n",
    "    print('Testing Step: ' + str(testStep))\n",
    "    bleuScore, bertScore, werError = calculateMetrics(validFaFileProc, 'data/pred_valid_'+str(testStep)+'.fa')\n",
    "    print('bleu: ' + str(bleuScore))\n",
    "    print('bertScore: ' + str(bertScore))\n",
    "    print('werError: ' + str(werError))\n",
    "    print()"
   ],
   "metadata": {
    "id": "2goxP3zkmAfz"
   },
   "execution_count": null,
   "outputs": []
  }
 ],
 "metadata": {
  "accelerator": "GPU",
  "colab": {
   "collapsed_sections": [],
   "name": "OpenNMT.ipynb",
   "provenance": []
  },
  "kernelspec": {
   "display_name": "Python 3",
   "name": "python3"
  },
  "language_info": {
   "name": "python"
  }
 },
 "nbformat": 4,
 "nbformat_minor": 0
}
